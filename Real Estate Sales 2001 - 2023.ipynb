{
 "cells": [
  {
   "cell_type": "markdown",
   "id": "5d5c2970-3be3-42ec-9eff-17c098aed0d1",
   "metadata": {},
   "source": [
    "## Import Data"
   ]
  },
  {
   "cell_type": "code",
   "execution_count": 1,
   "id": "37945d63-7cc9-48d7-a6b8-3a0783dbb782",
   "metadata": {},
   "outputs": [],
   "source": [
    "import pandas as pd\n",
    "import numpy as np\n",
    "import matplotlib.pyplot as plt\n",
    "import datetime as dt\n",
    "import seaborn as sns\n",
    "pd.set_option('display.float_format', '{:.2f}'.format) "
   ]
  },
  {
   "cell_type": "code",
   "execution_count": 2,
   "id": "5f71e755-f4dc-482d-8524-15cef29ec1dd",
   "metadata": {},
   "outputs": [],
   "source": [
    "dataset = pd.read_csv(\"D:\\Download here\\Real_Estate_Sales_2001-2022_GL (1).csv\", low_memory=False)"
   ]
  },
  {
   "cell_type": "markdown",
   "id": "7510472e-8a87-4e72-908e-23eb387074d4",
   "metadata": {},
   "source": [
    "## Understand Data"
   ]
  },
  {
   "cell_type": "code",
   "execution_count": 3,
   "id": "63ce5b72-dd9c-401a-b85d-d7044d90a971",
   "metadata": {},
   "outputs": [
    {
     "data": {
      "text/html": [
       "<div>\n",
       "<style scoped>\n",
       "    .dataframe tbody tr th:only-of-type {\n",
       "        vertical-align: middle;\n",
       "    }\n",
       "\n",
       "    .dataframe tbody tr th {\n",
       "        vertical-align: top;\n",
       "    }\n",
       "\n",
       "    .dataframe thead th {\n",
       "        text-align: right;\n",
       "    }\n",
       "</style>\n",
       "<table border=\"1\" class=\"dataframe\">\n",
       "  <thead>\n",
       "    <tr style=\"text-align: right;\">\n",
       "      <th></th>\n",
       "      <th>Serial Number</th>\n",
       "      <th>List Year</th>\n",
       "      <th>Date Recorded</th>\n",
       "      <th>Town</th>\n",
       "      <th>Address</th>\n",
       "      <th>Assessed Value</th>\n",
       "      <th>Sale Amount</th>\n",
       "      <th>Sales Ratio</th>\n",
       "      <th>Property Type</th>\n",
       "      <th>Residential Type</th>\n",
       "      <th>Non Use Code</th>\n",
       "      <th>Assessor Remarks</th>\n",
       "      <th>OPM remarks</th>\n",
       "      <th>Location</th>\n",
       "    </tr>\n",
       "  </thead>\n",
       "  <tbody>\n",
       "    <tr>\n",
       "      <th>0</th>\n",
       "      <td>220008</td>\n",
       "      <td>2022</td>\n",
       "      <td>01/30/2023</td>\n",
       "      <td>Andover</td>\n",
       "      <td>618 ROUTE 6</td>\n",
       "      <td>139020.00</td>\n",
       "      <td>232000.00</td>\n",
       "      <td>0.60</td>\n",
       "      <td>Residential</td>\n",
       "      <td>Single Family</td>\n",
       "      <td>NaN</td>\n",
       "      <td>NaN</td>\n",
       "      <td>NaN</td>\n",
       "      <td>POINT (-72.343628962 41.728431984)</td>\n",
       "    </tr>\n",
       "    <tr>\n",
       "      <th>1</th>\n",
       "      <td>2020348</td>\n",
       "      <td>2020</td>\n",
       "      <td>09/13/2021</td>\n",
       "      <td>Ansonia</td>\n",
       "      <td>230 WAKELEE AVE</td>\n",
       "      <td>150500.00</td>\n",
       "      <td>325000.00</td>\n",
       "      <td>0.46</td>\n",
       "      <td>Commercial</td>\n",
       "      <td>NaN</td>\n",
       "      <td>NaN</td>\n",
       "      <td>NaN</td>\n",
       "      <td>NaN</td>\n",
       "      <td>NaN</td>\n",
       "    </tr>\n",
       "    <tr>\n",
       "      <th>2</th>\n",
       "      <td>20002</td>\n",
       "      <td>2020</td>\n",
       "      <td>10/02/2020</td>\n",
       "      <td>Ashford</td>\n",
       "      <td>390 TURNPIKE RD</td>\n",
       "      <td>253000.00</td>\n",
       "      <td>430000.00</td>\n",
       "      <td>0.59</td>\n",
       "      <td>Residential</td>\n",
       "      <td>Single Family</td>\n",
       "      <td>NaN</td>\n",
       "      <td>NaN</td>\n",
       "      <td>NaN</td>\n",
       "      <td>NaN</td>\n",
       "    </tr>\n",
       "    <tr>\n",
       "      <th>3</th>\n",
       "      <td>210317</td>\n",
       "      <td>2021</td>\n",
       "      <td>07/05/2022</td>\n",
       "      <td>Avon</td>\n",
       "      <td>53 COTSWOLD WAY</td>\n",
       "      <td>329730.00</td>\n",
       "      <td>805000.00</td>\n",
       "      <td>0.41</td>\n",
       "      <td>Residential</td>\n",
       "      <td>Single Family</td>\n",
       "      <td>NaN</td>\n",
       "      <td>NaN</td>\n",
       "      <td>NaN</td>\n",
       "      <td>POINT (-72.846365959 41.781677018)</td>\n",
       "    </tr>\n",
       "    <tr>\n",
       "      <th>4</th>\n",
       "      <td>200212</td>\n",
       "      <td>2020</td>\n",
       "      <td>03/09/2021</td>\n",
       "      <td>Avon</td>\n",
       "      <td>5 CHESTNUT DRIVE</td>\n",
       "      <td>130400.00</td>\n",
       "      <td>179900.00</td>\n",
       "      <td>0.72</td>\n",
       "      <td>Residential</td>\n",
       "      <td>Condo</td>\n",
       "      <td>NaN</td>\n",
       "      <td>NaN</td>\n",
       "      <td>NaN</td>\n",
       "      <td>NaN</td>\n",
       "    </tr>\n",
       "    <tr>\n",
       "      <th>...</th>\n",
       "      <td>...</td>\n",
       "      <td>...</td>\n",
       "      <td>...</td>\n",
       "      <td>...</td>\n",
       "      <td>...</td>\n",
       "      <td>...</td>\n",
       "      <td>...</td>\n",
       "      <td>...</td>\n",
       "      <td>...</td>\n",
       "      <td>...</td>\n",
       "      <td>...</td>\n",
       "      <td>...</td>\n",
       "      <td>...</td>\n",
       "      <td>...</td>\n",
       "    </tr>\n",
       "    <tr>\n",
       "      <th>1097624</th>\n",
       "      <td>190272</td>\n",
       "      <td>2019</td>\n",
       "      <td>06/24/2020</td>\n",
       "      <td>New London</td>\n",
       "      <td>4 BISHOP CT</td>\n",
       "      <td>60410.00</td>\n",
       "      <td>53100.00</td>\n",
       "      <td>1.14</td>\n",
       "      <td>Single Family</td>\n",
       "      <td>Single Family</td>\n",
       "      <td>14 - Foreclosure</td>\n",
       "      <td>NaN</td>\n",
       "      <td>NaN</td>\n",
       "      <td>NaN</td>\n",
       "    </tr>\n",
       "    <tr>\n",
       "      <th>1097625</th>\n",
       "      <td>190284</td>\n",
       "      <td>2019</td>\n",
       "      <td>11/27/2019</td>\n",
       "      <td>Waterbury</td>\n",
       "      <td>126 PERKINS AVE</td>\n",
       "      <td>68280.00</td>\n",
       "      <td>76000.00</td>\n",
       "      <td>0.90</td>\n",
       "      <td>Single Family</td>\n",
       "      <td>Single Family</td>\n",
       "      <td>25 - Other</td>\n",
       "      <td>PRIVATE SALE</td>\n",
       "      <td>NaN</td>\n",
       "      <td>NaN</td>\n",
       "    </tr>\n",
       "    <tr>\n",
       "      <th>1097626</th>\n",
       "      <td>190129</td>\n",
       "      <td>2019</td>\n",
       "      <td>04/27/2020</td>\n",
       "      <td>Windsor Locks</td>\n",
       "      <td>19 HATHAWAY ST</td>\n",
       "      <td>121450.00</td>\n",
       "      <td>210000.00</td>\n",
       "      <td>0.58</td>\n",
       "      <td>Single Family</td>\n",
       "      <td>Single Family</td>\n",
       "      <td>NaN</td>\n",
       "      <td>NaN</td>\n",
       "      <td>NaN</td>\n",
       "      <td>NaN</td>\n",
       "    </tr>\n",
       "    <tr>\n",
       "      <th>1097627</th>\n",
       "      <td>190504</td>\n",
       "      <td>2019</td>\n",
       "      <td>06/03/2020</td>\n",
       "      <td>Middletown</td>\n",
       "      <td>8 BYSTREK DR</td>\n",
       "      <td>203360.00</td>\n",
       "      <td>280000.00</td>\n",
       "      <td>0.73</td>\n",
       "      <td>Single Family</td>\n",
       "      <td>Single Family</td>\n",
       "      <td>NaN</td>\n",
       "      <td>NaN</td>\n",
       "      <td>NaN</td>\n",
       "      <td>NaN</td>\n",
       "    </tr>\n",
       "    <tr>\n",
       "      <th>1097628</th>\n",
       "      <td>190344</td>\n",
       "      <td>2019</td>\n",
       "      <td>12/20/2019</td>\n",
       "      <td>Milford</td>\n",
       "      <td>250 RESEARCH DR</td>\n",
       "      <td>4035970.00</td>\n",
       "      <td>7450000.00</td>\n",
       "      <td>0.54</td>\n",
       "      <td>NaN</td>\n",
       "      <td>NaN</td>\n",
       "      <td>NaN</td>\n",
       "      <td>NaN</td>\n",
       "      <td>NaN</td>\n",
       "      <td>NaN</td>\n",
       "    </tr>\n",
       "  </tbody>\n",
       "</table>\n",
       "<p>1097629 rows × 14 columns</p>\n",
       "</div>"
      ],
      "text/plain": [
       "         Serial Number  List Year Date Recorded           Town  \\\n",
       "0               220008       2022    01/30/2023        Andover   \n",
       "1              2020348       2020    09/13/2021        Ansonia   \n",
       "2                20002       2020    10/02/2020        Ashford   \n",
       "3               210317       2021    07/05/2022           Avon   \n",
       "4               200212       2020    03/09/2021           Avon   \n",
       "...                ...        ...           ...            ...   \n",
       "1097624         190272       2019    06/24/2020     New London   \n",
       "1097625         190284       2019    11/27/2019      Waterbury   \n",
       "1097626         190129       2019    04/27/2020  Windsor Locks   \n",
       "1097627         190504       2019    06/03/2020     Middletown   \n",
       "1097628         190344       2019    12/20/2019        Milford   \n",
       "\n",
       "                  Address  Assessed Value  Sale Amount  Sales Ratio  \\\n",
       "0             618 ROUTE 6       139020.00    232000.00         0.60   \n",
       "1         230 WAKELEE AVE       150500.00    325000.00         0.46   \n",
       "2         390 TURNPIKE RD       253000.00    430000.00         0.59   \n",
       "3         53 COTSWOLD WAY       329730.00    805000.00         0.41   \n",
       "4        5 CHESTNUT DRIVE       130400.00    179900.00         0.72   \n",
       "...                   ...             ...          ...          ...   \n",
       "1097624       4 BISHOP CT        60410.00     53100.00         1.14   \n",
       "1097625   126 PERKINS AVE        68280.00     76000.00         0.90   \n",
       "1097626    19 HATHAWAY ST       121450.00    210000.00         0.58   \n",
       "1097627      8 BYSTREK DR       203360.00    280000.00         0.73   \n",
       "1097628   250 RESEARCH DR      4035970.00   7450000.00         0.54   \n",
       "\n",
       "         Property Type Residential Type      Non Use Code Assessor Remarks  \\\n",
       "0          Residential    Single Family               NaN              NaN   \n",
       "1           Commercial              NaN               NaN              NaN   \n",
       "2          Residential    Single Family               NaN              NaN   \n",
       "3          Residential    Single Family               NaN              NaN   \n",
       "4          Residential            Condo               NaN              NaN   \n",
       "...                ...              ...               ...              ...   \n",
       "1097624  Single Family    Single Family  14 - Foreclosure              NaN   \n",
       "1097625  Single Family    Single Family        25 - Other     PRIVATE SALE   \n",
       "1097626  Single Family    Single Family               NaN              NaN   \n",
       "1097627  Single Family    Single Family               NaN              NaN   \n",
       "1097628            NaN              NaN               NaN              NaN   \n",
       "\n",
       "        OPM remarks                            Location  \n",
       "0               NaN  POINT (-72.343628962 41.728431984)  \n",
       "1               NaN                                 NaN  \n",
       "2               NaN                                 NaN  \n",
       "3               NaN  POINT (-72.846365959 41.781677018)  \n",
       "4               NaN                                 NaN  \n",
       "...             ...                                 ...  \n",
       "1097624         NaN                                 NaN  \n",
       "1097625         NaN                                 NaN  \n",
       "1097626         NaN                                 NaN  \n",
       "1097627         NaN                                 NaN  \n",
       "1097628         NaN                                 NaN  \n",
       "\n",
       "[1097629 rows x 14 columns]"
      ]
     },
     "execution_count": 3,
     "metadata": {},
     "output_type": "execute_result"
    }
   ],
   "source": [
    "dataset"
   ]
  },
  {
   "cell_type": "code",
   "execution_count": 4,
   "id": "8fa6fd51-7eb7-42ed-a6c8-3fecac364cb3",
   "metadata": {},
   "outputs": [
    {
     "data": {
      "text/html": [
       "<div>\n",
       "<style scoped>\n",
       "    .dataframe tbody tr th:only-of-type {\n",
       "        vertical-align: middle;\n",
       "    }\n",
       "\n",
       "    .dataframe tbody tr th {\n",
       "        vertical-align: top;\n",
       "    }\n",
       "\n",
       "    .dataframe thead th {\n",
       "        text-align: right;\n",
       "    }\n",
       "</style>\n",
       "<table border=\"1\" class=\"dataframe\">\n",
       "  <thead>\n",
       "    <tr style=\"text-align: right;\">\n",
       "      <th></th>\n",
       "      <th>Serial Number</th>\n",
       "      <th>List Year</th>\n",
       "      <th>Date Recorded</th>\n",
       "      <th>Town</th>\n",
       "      <th>Address</th>\n",
       "      <th>Assessed Value</th>\n",
       "      <th>Sale Amount</th>\n",
       "      <th>Sales Ratio</th>\n",
       "      <th>Property Type</th>\n",
       "      <th>Residential Type</th>\n",
       "      <th>Non Use Code</th>\n",
       "      <th>Assessor Remarks</th>\n",
       "      <th>OPM remarks</th>\n",
       "      <th>Location</th>\n",
       "    </tr>\n",
       "  </thead>\n",
       "  <tbody>\n",
       "    <tr>\n",
       "      <th>0</th>\n",
       "      <td>False</td>\n",
       "      <td>False</td>\n",
       "      <td>False</td>\n",
       "      <td>False</td>\n",
       "      <td>False</td>\n",
       "      <td>False</td>\n",
       "      <td>False</td>\n",
       "      <td>False</td>\n",
       "      <td>False</td>\n",
       "      <td>False</td>\n",
       "      <td>True</td>\n",
       "      <td>True</td>\n",
       "      <td>True</td>\n",
       "      <td>False</td>\n",
       "    </tr>\n",
       "    <tr>\n",
       "      <th>1</th>\n",
       "      <td>False</td>\n",
       "      <td>False</td>\n",
       "      <td>False</td>\n",
       "      <td>False</td>\n",
       "      <td>False</td>\n",
       "      <td>False</td>\n",
       "      <td>False</td>\n",
       "      <td>False</td>\n",
       "      <td>False</td>\n",
       "      <td>True</td>\n",
       "      <td>True</td>\n",
       "      <td>True</td>\n",
       "      <td>True</td>\n",
       "      <td>True</td>\n",
       "    </tr>\n",
       "    <tr>\n",
       "      <th>2</th>\n",
       "      <td>False</td>\n",
       "      <td>False</td>\n",
       "      <td>False</td>\n",
       "      <td>False</td>\n",
       "      <td>False</td>\n",
       "      <td>False</td>\n",
       "      <td>False</td>\n",
       "      <td>False</td>\n",
       "      <td>False</td>\n",
       "      <td>False</td>\n",
       "      <td>True</td>\n",
       "      <td>True</td>\n",
       "      <td>True</td>\n",
       "      <td>True</td>\n",
       "    </tr>\n",
       "    <tr>\n",
       "      <th>3</th>\n",
       "      <td>False</td>\n",
       "      <td>False</td>\n",
       "      <td>False</td>\n",
       "      <td>False</td>\n",
       "      <td>False</td>\n",
       "      <td>False</td>\n",
       "      <td>False</td>\n",
       "      <td>False</td>\n",
       "      <td>False</td>\n",
       "      <td>False</td>\n",
       "      <td>True</td>\n",
       "      <td>True</td>\n",
       "      <td>True</td>\n",
       "      <td>False</td>\n",
       "    </tr>\n",
       "    <tr>\n",
       "      <th>4</th>\n",
       "      <td>False</td>\n",
       "      <td>False</td>\n",
       "      <td>False</td>\n",
       "      <td>False</td>\n",
       "      <td>False</td>\n",
       "      <td>False</td>\n",
       "      <td>False</td>\n",
       "      <td>False</td>\n",
       "      <td>False</td>\n",
       "      <td>False</td>\n",
       "      <td>True</td>\n",
       "      <td>True</td>\n",
       "      <td>True</td>\n",
       "      <td>True</td>\n",
       "    </tr>\n",
       "    <tr>\n",
       "      <th>...</th>\n",
       "      <td>...</td>\n",
       "      <td>...</td>\n",
       "      <td>...</td>\n",
       "      <td>...</td>\n",
       "      <td>...</td>\n",
       "      <td>...</td>\n",
       "      <td>...</td>\n",
       "      <td>...</td>\n",
       "      <td>...</td>\n",
       "      <td>...</td>\n",
       "      <td>...</td>\n",
       "      <td>...</td>\n",
       "      <td>...</td>\n",
       "      <td>...</td>\n",
       "    </tr>\n",
       "    <tr>\n",
       "      <th>1097624</th>\n",
       "      <td>False</td>\n",
       "      <td>False</td>\n",
       "      <td>False</td>\n",
       "      <td>False</td>\n",
       "      <td>False</td>\n",
       "      <td>False</td>\n",
       "      <td>False</td>\n",
       "      <td>False</td>\n",
       "      <td>False</td>\n",
       "      <td>False</td>\n",
       "      <td>False</td>\n",
       "      <td>True</td>\n",
       "      <td>True</td>\n",
       "      <td>True</td>\n",
       "    </tr>\n",
       "    <tr>\n",
       "      <th>1097625</th>\n",
       "      <td>False</td>\n",
       "      <td>False</td>\n",
       "      <td>False</td>\n",
       "      <td>False</td>\n",
       "      <td>False</td>\n",
       "      <td>False</td>\n",
       "      <td>False</td>\n",
       "      <td>False</td>\n",
       "      <td>False</td>\n",
       "      <td>False</td>\n",
       "      <td>False</td>\n",
       "      <td>False</td>\n",
       "      <td>True</td>\n",
       "      <td>True</td>\n",
       "    </tr>\n",
       "    <tr>\n",
       "      <th>1097626</th>\n",
       "      <td>False</td>\n",
       "      <td>False</td>\n",
       "      <td>False</td>\n",
       "      <td>False</td>\n",
       "      <td>False</td>\n",
       "      <td>False</td>\n",
       "      <td>False</td>\n",
       "      <td>False</td>\n",
       "      <td>False</td>\n",
       "      <td>False</td>\n",
       "      <td>True</td>\n",
       "      <td>True</td>\n",
       "      <td>True</td>\n",
       "      <td>True</td>\n",
       "    </tr>\n",
       "    <tr>\n",
       "      <th>1097627</th>\n",
       "      <td>False</td>\n",
       "      <td>False</td>\n",
       "      <td>False</td>\n",
       "      <td>False</td>\n",
       "      <td>False</td>\n",
       "      <td>False</td>\n",
       "      <td>False</td>\n",
       "      <td>False</td>\n",
       "      <td>False</td>\n",
       "      <td>False</td>\n",
       "      <td>True</td>\n",
       "      <td>True</td>\n",
       "      <td>True</td>\n",
       "      <td>True</td>\n",
       "    </tr>\n",
       "    <tr>\n",
       "      <th>1097628</th>\n",
       "      <td>False</td>\n",
       "      <td>False</td>\n",
       "      <td>False</td>\n",
       "      <td>False</td>\n",
       "      <td>False</td>\n",
       "      <td>False</td>\n",
       "      <td>False</td>\n",
       "      <td>False</td>\n",
       "      <td>True</td>\n",
       "      <td>True</td>\n",
       "      <td>True</td>\n",
       "      <td>True</td>\n",
       "      <td>True</td>\n",
       "      <td>True</td>\n",
       "    </tr>\n",
       "  </tbody>\n",
       "</table>\n",
       "<p>1097629 rows × 14 columns</p>\n",
       "</div>"
      ],
      "text/plain": [
       "         Serial Number  List Year  Date Recorded   Town  Address  \\\n",
       "0                False      False          False  False    False   \n",
       "1                False      False          False  False    False   \n",
       "2                False      False          False  False    False   \n",
       "3                False      False          False  False    False   \n",
       "4                False      False          False  False    False   \n",
       "...                ...        ...            ...    ...      ...   \n",
       "1097624          False      False          False  False    False   \n",
       "1097625          False      False          False  False    False   \n",
       "1097626          False      False          False  False    False   \n",
       "1097627          False      False          False  False    False   \n",
       "1097628          False      False          False  False    False   \n",
       "\n",
       "         Assessed Value  Sale Amount  Sales Ratio  Property Type  \\\n",
       "0                 False        False        False          False   \n",
       "1                 False        False        False          False   \n",
       "2                 False        False        False          False   \n",
       "3                 False        False        False          False   \n",
       "4                 False        False        False          False   \n",
       "...                 ...          ...          ...            ...   \n",
       "1097624           False        False        False          False   \n",
       "1097625           False        False        False          False   \n",
       "1097626           False        False        False          False   \n",
       "1097627           False        False        False          False   \n",
       "1097628           False        False        False           True   \n",
       "\n",
       "         Residential Type  Non Use Code  Assessor Remarks  OPM remarks  \\\n",
       "0                   False          True              True         True   \n",
       "1                    True          True              True         True   \n",
       "2                   False          True              True         True   \n",
       "3                   False          True              True         True   \n",
       "4                   False          True              True         True   \n",
       "...                   ...           ...               ...          ...   \n",
       "1097624             False         False              True         True   \n",
       "1097625             False         False             False         True   \n",
       "1097626             False          True              True         True   \n",
       "1097627             False          True              True         True   \n",
       "1097628              True          True              True         True   \n",
       "\n",
       "         Location  \n",
       "0           False  \n",
       "1            True  \n",
       "2            True  \n",
       "3           False  \n",
       "4            True  \n",
       "...           ...  \n",
       "1097624      True  \n",
       "1097625      True  \n",
       "1097626      True  \n",
       "1097627      True  \n",
       "1097628      True  \n",
       "\n",
       "[1097629 rows x 14 columns]"
      ]
     },
     "execution_count": 4,
     "metadata": {},
     "output_type": "execute_result"
    }
   ],
   "source": [
    "#Check if null values exist at the first look\n",
    "dataset.isnull()"
   ]
  },
  {
   "cell_type": "code",
   "execution_count": 5,
   "id": "706885df-f4d1-4a38-980f-52e32634df92",
   "metadata": {},
   "outputs": [
    {
     "data": {
      "text/plain": [
       "(1097629, 14)"
      ]
     },
     "execution_count": 5,
     "metadata": {},
     "output_type": "execute_result"
    }
   ],
   "source": [
    "#Check number of rows and columns\n",
    "dataset.shape"
   ]
  },
  {
   "cell_type": "code",
   "execution_count": 6,
   "id": "dc2d7d4a-03a8-425f-9017-89f2d32df643",
   "metadata": {},
   "outputs": [
    {
     "name": "stdout",
     "output_type": "stream",
     "text": [
      "<class 'pandas.core.frame.DataFrame'>\n",
      "RangeIndex: 1097629 entries, 0 to 1097628\n",
      "Data columns (total 14 columns):\n",
      " #   Column            Non-Null Count    Dtype  \n",
      "---  ------            --------------    -----  \n",
      " 0   Serial Number     1097629 non-null  int64  \n",
      " 1   List Year         1097629 non-null  int64  \n",
      " 2   Date Recorded     1097627 non-null  object \n",
      " 3   Town              1097629 non-null  object \n",
      " 4   Address           1097578 non-null  object \n",
      " 5   Assessed Value    1097629 non-null  float64\n",
      " 6   Sale Amount       1097629 non-null  float64\n",
      " 7   Sales Ratio       1097629 non-null  float64\n",
      " 8   Property Type     715183 non-null   object \n",
      " 9   Residential Type  699240 non-null   object \n",
      " 10  Non Use Code      313451 non-null   object \n",
      " 11  Assessor Remarks  171228 non-null   object \n",
      " 12  OPM remarks       13031 non-null    object \n",
      " 13  Location          298111 non-null   object \n",
      "dtypes: float64(3), int64(2), object(9)\n",
      "memory usage: 117.2+ MB\n"
     ]
    }
   ],
   "source": [
    "#Check data types\n",
    "dataset.info()"
   ]
  },
  {
   "cell_type": "markdown",
   "id": "0cc2a369-ce0a-421c-bfab-b72941d9c6b9",
   "metadata": {},
   "source": [
    "## Data Cleaning"
   ]
  },
  {
   "cell_type": "code",
   "execution_count": 7,
   "id": "3d019090-85cf-4251-b5a2-15c8fadbea57",
   "metadata": {},
   "outputs": [
    {
     "data": {
      "text/plain": [
       "Serial Number       0.00\n",
       "List Year           0.00\n",
       "Date Recorded       0.00\n",
       "Town                0.00\n",
       "Address             0.00\n",
       "Assessed Value      0.00\n",
       "Sale Amount         0.00\n",
       "Sales Ratio         0.00\n",
       "Property Type      34.84\n",
       "Residential Type   36.30\n",
       "Non Use Code       71.44\n",
       "Assessor Remarks   84.40\n",
       "OPM remarks        98.81\n",
       "Location           72.84\n",
       "dtype: float64"
      ]
     },
     "execution_count": 7,
     "metadata": {},
     "output_type": "execute_result"
    }
   ],
   "source": [
    "#Check percentage of nulls in each field\n",
    "percentage_nulls = dataset.isnull().mean() * 100\n",
    "percentage_nulls"
   ]
  },
  {
   "cell_type": "code",
   "execution_count": 8,
   "id": "65417310-9d06-40d3-84fd-e2f787cf398e",
   "metadata": {},
   "outputs": [],
   "source": [
    "#Drop columns that has percentage of nulls more than 80%\n",
    "dropped_columns = percentage_nulls[percentage_nulls > 80].index\n",
    "dataset = dataset.drop(columns=dropped_columns)"
   ]
  },
  {
   "cell_type": "markdown",
   "id": "eaf4b3be-7669-4127-a538-958e006412e3",
   "metadata": {},
   "source": [
    "### Drop or Fill N/A Values"
   ]
  },
  {
   "cell_type": "code",
   "execution_count": 9,
   "id": "4ff8da10-65fd-4f1d-8a44-3c875ee767cf",
   "metadata": {},
   "outputs": [],
   "source": [
    "dataset['Date Recorded'] = dataset['Date Recorded'].fillna(\"Unknown\")"
   ]
  },
  {
   "cell_type": "code",
   "execution_count": 10,
   "id": "7ac13f83-3d6d-48c2-9ce5-fde0b0665f92",
   "metadata": {},
   "outputs": [],
   "source": [
    "dropped_rows = dataset[(dataset['Address'].isnull() & dataset['Location'].isnull())].index\n",
    "dataset = dataset.drop(index=dropped_rows)"
   ]
  },
  {
   "cell_type": "code",
   "execution_count": 11,
   "id": "10ca83d4-495c-41de-b3ef-b55ee62d85c4",
   "metadata": {},
   "outputs": [
    {
     "data": {
      "text/html": [
       "<div>\n",
       "<style scoped>\n",
       "    .dataframe tbody tr th:only-of-type {\n",
       "        vertical-align: middle;\n",
       "    }\n",
       "\n",
       "    .dataframe tbody tr th {\n",
       "        vertical-align: top;\n",
       "    }\n",
       "\n",
       "    .dataframe thead th {\n",
       "        text-align: right;\n",
       "    }\n",
       "</style>\n",
       "<table border=\"1\" class=\"dataframe\">\n",
       "  <thead>\n",
       "    <tr style=\"text-align: right;\">\n",
       "      <th></th>\n",
       "      <th>Serial Number</th>\n",
       "      <th>List Year</th>\n",
       "      <th>Date Recorded</th>\n",
       "      <th>Town</th>\n",
       "      <th>Address</th>\n",
       "      <th>Assessed Value</th>\n",
       "      <th>Sale Amount</th>\n",
       "      <th>Sales Ratio</th>\n",
       "      <th>Property Type</th>\n",
       "      <th>Residential Type</th>\n",
       "      <th>Non Use Code</th>\n",
       "      <th>Location</th>\n",
       "    </tr>\n",
       "  </thead>\n",
       "  <tbody>\n",
       "    <tr>\n",
       "      <th>67</th>\n",
       "      <td>10095</td>\n",
       "      <td>2001</td>\n",
       "      <td>11/16/2001</td>\n",
       "      <td>Farmington</td>\n",
       "      <td>5 SPARROW LN</td>\n",
       "      <td>67670.00</td>\n",
       "      <td>302866.00</td>\n",
       "      <td>0.22</td>\n",
       "      <td>NaN</td>\n",
       "      <td>NaN</td>\n",
       "      <td>7</td>\n",
       "      <td>NaN</td>\n",
       "    </tr>\n",
       "    <tr>\n",
       "      <th>69</th>\n",
       "      <td>11238</td>\n",
       "      <td>2001</td>\n",
       "      <td>08/30/2002</td>\n",
       "      <td>Bethel</td>\n",
       "      <td>50 FOURTH ST</td>\n",
       "      <td>76450.00</td>\n",
       "      <td>50000.00</td>\n",
       "      <td>1.53</td>\n",
       "      <td>NaN</td>\n",
       "      <td>NaN</td>\n",
       "      <td>8</td>\n",
       "      <td>NaN</td>\n",
       "    </tr>\n",
       "    <tr>\n",
       "      <th>70</th>\n",
       "      <td>10035</td>\n",
       "      <td>2001</td>\n",
       "      <td>06/28/2002</td>\n",
       "      <td>Chaplin</td>\n",
       "      <td>FEDERAL RD</td>\n",
       "      <td>19000.00</td>\n",
       "      <td>35000.00</td>\n",
       "      <td>0.54</td>\n",
       "      <td>NaN</td>\n",
       "      <td>NaN</td>\n",
       "      <td>NaN</td>\n",
       "      <td>NaN</td>\n",
       "    </tr>\n",
       "    <tr>\n",
       "      <th>71</th>\n",
       "      <td>10115</td>\n",
       "      <td>2001</td>\n",
       "      <td>02/01/2002</td>\n",
       "      <td>Clinton</td>\n",
       "      <td>42 PRATT RD</td>\n",
       "      <td>121900.00</td>\n",
       "      <td>230000.00</td>\n",
       "      <td>0.53</td>\n",
       "      <td>NaN</td>\n",
       "      <td>NaN</td>\n",
       "      <td>NaN</td>\n",
       "      <td>NaN</td>\n",
       "    </tr>\n",
       "    <tr>\n",
       "      <th>80</th>\n",
       "      <td>10041</td>\n",
       "      <td>2001</td>\n",
       "      <td>07/17/2002</td>\n",
       "      <td>Eastford</td>\n",
       "      <td>WESTFORD RD</td>\n",
       "      <td>180.00</td>\n",
       "      <td>5000.00</td>\n",
       "      <td>0.04</td>\n",
       "      <td>NaN</td>\n",
       "      <td>NaN</td>\n",
       "      <td>28</td>\n",
       "      <td>NaN</td>\n",
       "    </tr>\n",
       "    <tr>\n",
       "      <th>...</th>\n",
       "      <td>...</td>\n",
       "      <td>...</td>\n",
       "      <td>...</td>\n",
       "      <td>...</td>\n",
       "      <td>...</td>\n",
       "      <td>...</td>\n",
       "      <td>...</td>\n",
       "      <td>...</td>\n",
       "      <td>...</td>\n",
       "      <td>...</td>\n",
       "      <td>...</td>\n",
       "      <td>...</td>\n",
       "    </tr>\n",
       "    <tr>\n",
       "      <th>1097573</th>\n",
       "      <td>19150</td>\n",
       "      <td>2019</td>\n",
       "      <td>01/13/2020</td>\n",
       "      <td>Newtown</td>\n",
       "      <td>22 WASHINGTON AVENUE</td>\n",
       "      <td>53640.00</td>\n",
       "      <td>122500.00</td>\n",
       "      <td>0.44</td>\n",
       "      <td>NaN</td>\n",
       "      <td>NaN</td>\n",
       "      <td>NaN</td>\n",
       "      <td>NaN</td>\n",
       "    </tr>\n",
       "    <tr>\n",
       "      <th>1097581</th>\n",
       "      <td>190242</td>\n",
       "      <td>2019</td>\n",
       "      <td>09/18/2020</td>\n",
       "      <td>Weston</td>\n",
       "      <td>OLD HYDE ROAD</td>\n",
       "      <td>181440.00</td>\n",
       "      <td>150000.00</td>\n",
       "      <td>1.21</td>\n",
       "      <td>NaN</td>\n",
       "      <td>NaN</td>\n",
       "      <td>08 - Part Interest</td>\n",
       "      <td>NaN</td>\n",
       "    </tr>\n",
       "    <tr>\n",
       "      <th>1097582</th>\n",
       "      <td>19000067</td>\n",
       "      <td>2019</td>\n",
       "      <td>05/19/2020</td>\n",
       "      <td>New Hartford</td>\n",
       "      <td>LOT 2 DINGS RD</td>\n",
       "      <td>87955.00</td>\n",
       "      <td>35000.00</td>\n",
       "      <td>2.51</td>\n",
       "      <td>NaN</td>\n",
       "      <td>NaN</td>\n",
       "      <td>28 - Use Assessment</td>\n",
       "      <td>POINT (-73.02432 41.83788)</td>\n",
       "    </tr>\n",
       "    <tr>\n",
       "      <th>1097590</th>\n",
       "      <td>190713</td>\n",
       "      <td>2019</td>\n",
       "      <td>06/01/2020</td>\n",
       "      <td>New Haven</td>\n",
       "      <td>1083 WHALLEY AV</td>\n",
       "      <td>262220.00</td>\n",
       "      <td>325000.00</td>\n",
       "      <td>0.81</td>\n",
       "      <td>NaN</td>\n",
       "      <td>NaN</td>\n",
       "      <td>25 - Other</td>\n",
       "      <td>POINT (-72.96622 41.32883)</td>\n",
       "    </tr>\n",
       "    <tr>\n",
       "      <th>1097628</th>\n",
       "      <td>190344</td>\n",
       "      <td>2019</td>\n",
       "      <td>12/20/2019</td>\n",
       "      <td>Milford</td>\n",
       "      <td>250 RESEARCH DR</td>\n",
       "      <td>4035970.00</td>\n",
       "      <td>7450000.00</td>\n",
       "      <td>0.54</td>\n",
       "      <td>NaN</td>\n",
       "      <td>NaN</td>\n",
       "      <td>NaN</td>\n",
       "      <td>NaN</td>\n",
       "    </tr>\n",
       "  </tbody>\n",
       "</table>\n",
       "<p>382404 rows × 12 columns</p>\n",
       "</div>"
      ],
      "text/plain": [
       "         Serial Number  List Year Date Recorded          Town  \\\n",
       "67               10095       2001    11/16/2001    Farmington   \n",
       "69               11238       2001    08/30/2002        Bethel   \n",
       "70               10035       2001    06/28/2002       Chaplin   \n",
       "71               10115       2001    02/01/2002       Clinton   \n",
       "80               10041       2001    07/17/2002      Eastford   \n",
       "...                ...        ...           ...           ...   \n",
       "1097573          19150       2019    01/13/2020       Newtown   \n",
       "1097581         190242       2019    09/18/2020        Weston   \n",
       "1097582       19000067       2019    05/19/2020  New Hartford   \n",
       "1097590         190713       2019    06/01/2020     New Haven   \n",
       "1097628         190344       2019    12/20/2019       Milford   \n",
       "\n",
       "                      Address  Assessed Value  Sale Amount  Sales Ratio  \\\n",
       "67               5 SPARROW LN        67670.00    302866.00         0.22   \n",
       "69               50 FOURTH ST        76450.00     50000.00         1.53   \n",
       "70                 FEDERAL RD        19000.00     35000.00         0.54   \n",
       "71                42 PRATT RD       121900.00    230000.00         0.53   \n",
       "80                WESTFORD RD          180.00      5000.00         0.04   \n",
       "...                       ...             ...          ...          ...   \n",
       "1097573  22 WASHINGTON AVENUE        53640.00    122500.00         0.44   \n",
       "1097581         OLD HYDE ROAD       181440.00    150000.00         1.21   \n",
       "1097582        LOT 2 DINGS RD        87955.00     35000.00         2.51   \n",
       "1097590       1083 WHALLEY AV       262220.00    325000.00         0.81   \n",
       "1097628       250 RESEARCH DR      4035970.00   7450000.00         0.54   \n",
       "\n",
       "        Property Type Residential Type         Non Use Code  \\\n",
       "67                NaN              NaN                    7   \n",
       "69                NaN              NaN                    8   \n",
       "70                NaN              NaN                  NaN   \n",
       "71                NaN              NaN                  NaN   \n",
       "80                NaN              NaN                   28   \n",
       "...               ...              ...                  ...   \n",
       "1097573           NaN              NaN                  NaN   \n",
       "1097581           NaN              NaN   08 - Part Interest   \n",
       "1097582           NaN              NaN  28 - Use Assessment   \n",
       "1097590           NaN              NaN           25 - Other   \n",
       "1097628           NaN              NaN                  NaN   \n",
       "\n",
       "                           Location  \n",
       "67                              NaN  \n",
       "69                              NaN  \n",
       "70                              NaN  \n",
       "71                              NaN  \n",
       "80                              NaN  \n",
       "...                             ...  \n",
       "1097573                         NaN  \n",
       "1097581                         NaN  \n",
       "1097582  POINT (-73.02432 41.83788)  \n",
       "1097590  POINT (-72.96622 41.32883)  \n",
       "1097628                         NaN  \n",
       "\n",
       "[382404 rows x 12 columns]"
      ]
     },
     "execution_count": 11,
     "metadata": {},
     "output_type": "execute_result"
    }
   ],
   "source": [
    "dataset[dataset['Property Type'].isnull()]"
   ]
  },
  {
   "cell_type": "code",
   "execution_count": 12,
   "id": "a42b4432-8432-45b6-92fb-dcc1eaf513f9",
   "metadata": {},
   "outputs": [],
   "source": [
    "dataset['Property Type'] = dataset['Property Type'].fillna(\"Unknown\")\n",
    "dataset['Residential Type'] = dataset['Residential Type'].fillna(\"Unknown\")\n",
    "dataset['Non Use Code'] = dataset['Non Use Code'].fillna(\"None\")"
   ]
  },
  {
   "cell_type": "code",
   "execution_count": 13,
   "id": "1d097a33-c8fe-4280-96d0-4c6b17cc3c88",
   "metadata": {},
   "outputs": [
    {
     "data": {
      "text/plain": [
       "Serial Number       0.00\n",
       "List Year           0.00\n",
       "Date Recorded       0.00\n",
       "Town                0.00\n",
       "Address             0.00\n",
       "Assessed Value      0.00\n",
       "Sale Amount         0.00\n",
       "Sales Ratio         0.00\n",
       "Property Type       0.00\n",
       "Residential Type    0.00\n",
       "Non Use Code        0.00\n",
       "Location           72.84\n",
       "dtype: float64"
      ]
     },
     "execution_count": 13,
     "metadata": {},
     "output_type": "execute_result"
    }
   ],
   "source": [
    "#Check percentage of nulls in each field\n",
    "percentage_nulls = dataset.isnull().mean() * 100\n",
    "percentage_nulls"
   ]
  },
  {
   "cell_type": "markdown",
   "id": "19c65559-041d-40ff-b170-9dda65c87adc",
   "metadata": {},
   "source": [
    "### Remove Duplicates"
   ]
  },
  {
   "cell_type": "code",
   "execution_count": 14,
   "id": "9262dde8-fd6c-4ab8-ad57-2add23473d25",
   "metadata": {},
   "outputs": [
    {
     "name": "stdout",
     "output_type": "stream",
     "text": [
      "No duplicated rows\n"
     ]
    }
   ],
   "source": [
    "if not dataset.duplicated().any():\n",
    "    print(\"No duplicated rows\")\n",
    "else:\n",
    "    print(\"Duplicated row indices:\", dataset.index[dataset.duplicated()].tolist())"
   ]
  },
  {
   "cell_type": "code",
   "execution_count": 15,
   "id": "2d994e11-686c-4360-8f23-8328b944c809",
   "metadata": {},
   "outputs": [
    {
     "name": "stdout",
     "output_type": "stream",
     "text": [
      "Duplicated rows saved to csv\n"
     ]
    }
   ],
   "source": [
    "if not dataset.duplicated(subset=[\"Address\", \"Date Recorded\", \"Sales Ratio\"], keep=False).any():\n",
    "    print(\"No duplicates\")\n",
    "else:\n",
    "    duplicated_index = dataset.index[dataset.duplicated(subset=[\"Address\", \"Date Recorded\", \"Sales Ratio\"], keep=False)]\n",
    "    duplicated_table = dataset.loc[duplicated_index]\n",
    "    duplicated_table = duplicated_table.sort_values(by=\"Address\")\n",
    "    duplicated_table = duplicated_table.drop_duplicates(subset=[\"Address\", \"Date Recorded\", \"Sales Ratio\"], keep='last')\n",
    "    duplicated_table.to_csv('removed_duplicates.csv', index=False)\n",
    "    print(\"Duplicated rows saved to csv\")"
   ]
  },
  {
   "cell_type": "code",
   "execution_count": 16,
   "id": "89e1877d-7639-426f-a545-3aadb13d25aa",
   "metadata": {},
   "outputs": [],
   "source": [
    "dataset = dataset.drop_duplicates(subset=[\"Address\", \"Date Recorded\", \"Sales Ratio\"], keep='last')"
   ]
  },
  {
   "cell_type": "markdown",
   "id": "6c308c49-950d-4c41-8d77-c928472dd7a8",
   "metadata": {},
   "source": [
    "### Detect Inconsistent Values"
   ]
  },
  {
   "cell_type": "code",
   "execution_count": 17,
   "id": "1e853625-bc08-4ea5-a3fb-4e2ac646a049",
   "metadata": {},
   "outputs": [
    {
     "data": {
      "text/plain": [
       "array(['None', '08 - Part Interest', '14 - Foreclosure', '25 - Other',\n",
       "       '01 - Family', '12 - Non Buildable Lot', '7', '8', '28',\n",
       "       '10 - A Will', '24', '1', '07 - Change in Property', '25', '3',\n",
       "       '18', '6', '17', '26 - Rehabilitation Deferred', '09 - Tax',\n",
       "       '03 - Inter Corporation', '16 - Charitable Group',\n",
       "       '28 - Use Assessment', '06 - Portion of Property',\n",
       "       '02 - Love and Affection', '17 - Two Towns', '24 - Plottage',\n",
       "       '05 - Deed Date', '18 - In Lieu Of Foreclosure', '12',\n",
       "       '04 - Correcting Deed', '19 - Easement', '15 - Government Agency',\n",
       "       '11 - Court Order',\n",
       "       '27 - CRUMBLING FOUNDATION ASSESSMENT REDUCTION',\n",
       "       '21 - Personal Property Exchange', '2',\n",
       "       '22 - Money and Personal Property', '13 - Bankrupcy', '15',\n",
       "       '30 - Auction', '23 - Zoning', 'Single Family', '14',\n",
       "       '20 - Cemetery', '29', '30', '19', '10', '11', '21', '4', '16',\n",
       "       '29 - No Consideration', '13', '9', '22', '23', '5', '26', '33',\n",
       "       '27', '20', '73', '68', '31', '48', '38', '37', '55', '32', '88',\n",
       "       '34', '74', '75'], dtype=object)"
      ]
     },
     "execution_count": 17,
     "metadata": {},
     "output_type": "execute_result"
    }
   ],
   "source": [
    "dataset['Non Use Code'].unique()\n",
    "#The 'Non Use Code' column is inconsistent, mixing prefixes and descriptions\n",
    "#Split it into two columns: prefix and description\n",
    "#Standardize prefixes with identical meanings but different formats."
   ]
  },
  {
   "cell_type": "code",
   "execution_count": 18,
   "id": "d71f6929-9e02-484e-a094-7bcf6ade3e9f",
   "metadata": {},
   "outputs": [],
   "source": [
    "non_use_code = pd.Series(dataset['Non Use Code'])"
   ]
  },
  {
   "cell_type": "code",
   "execution_count": 19,
   "id": "2277f127-a02b-429c-a4ee-fc238a589861",
   "metadata": {},
   "outputs": [],
   "source": [
    "split_columns = dataset[\"Non Use Code\"].str.rsplit(\"-\", n=1, expand=True)\n",
    "dataset[[\"non_use_code_prefix\", \"non_use_code_desc\"]] = split_columns"
   ]
  },
  {
   "cell_type": "code",
   "execution_count": 20,
   "id": "b70baecc-8a02-4b17-8a50-5c2f6739e336",
   "metadata": {
    "scrolled": true
   },
   "outputs": [],
   "source": [
    "dataset = dataset.drop(columns=[\"Non Use Code\"])"
   ]
  },
  {
   "cell_type": "code",
   "execution_count": 21,
   "id": "e0924cc1-20d7-44a1-8bb4-d6b4697b0d9f",
   "metadata": {},
   "outputs": [],
   "source": [
    "dataset[\"non_use_code_prefix\"] = dataset[\"non_use_code_prefix\"].str.strip()"
   ]
  },
  {
   "cell_type": "code",
   "execution_count": 22,
   "id": "f7a17d8f-f9c0-472c-9b52-2b18c99b51ad",
   "metadata": {},
   "outputs": [
    {
     "data": {
      "text/plain": [
       "['01',\n",
       " '02',\n",
       " '03',\n",
       " '04',\n",
       " '05',\n",
       " '06',\n",
       " '07',\n",
       " '08',\n",
       " '09',\n",
       " '1',\n",
       " '10',\n",
       " '11',\n",
       " '12',\n",
       " '13',\n",
       " '14',\n",
       " '15',\n",
       " '16',\n",
       " '17',\n",
       " '18',\n",
       " '19',\n",
       " '2',\n",
       " '20',\n",
       " '21',\n",
       " '22',\n",
       " '23',\n",
       " '24',\n",
       " '25',\n",
       " '26',\n",
       " '27',\n",
       " '28',\n",
       " '29',\n",
       " '3',\n",
       " '30',\n",
       " '31',\n",
       " '32',\n",
       " '33',\n",
       " '34',\n",
       " '37',\n",
       " '38',\n",
       " '4',\n",
       " '48',\n",
       " '5',\n",
       " '55',\n",
       " '6',\n",
       " '68',\n",
       " '7',\n",
       " '73',\n",
       " '74',\n",
       " '75',\n",
       " '8',\n",
       " '88',\n",
       " '9',\n",
       " 'None',\n",
       " 'Single Family']"
      ]
     },
     "execution_count": 22,
     "metadata": {},
     "output_type": "execute_result"
    }
   ],
   "source": [
    "sorted(dataset[\"non_use_code_prefix\"].unique())"
   ]
  },
  {
   "cell_type": "code",
   "execution_count": 23,
   "id": "f17f3bba-b408-43dd-b52d-ca09e2951d0f",
   "metadata": {},
   "outputs": [],
   "source": [
    "isZero = dataset[\"non_use_code_prefix\"].str[0] == \"0\"\n",
    "dataset.loc[isZero, \"non_use_code_prefix\"] = dataset[\"non_use_code_prefix\"].str.replace(\"0\", \" \")\n",
    "dataset[\"non_use_code_prefix\"] = dataset[\"non_use_code_prefix\"].str.strip()"
   ]
  },
  {
   "cell_type": "code",
   "execution_count": 24,
   "id": "8715b9e8-9e63-44a9-b66a-2ffaf79c26c3",
   "metadata": {},
   "outputs": [
    {
     "data": {
      "text/plain": [
       "['1',\n",
       " '10',\n",
       " '11',\n",
       " '12',\n",
       " '13',\n",
       " '14',\n",
       " '15',\n",
       " '16',\n",
       " '17',\n",
       " '18',\n",
       " '19',\n",
       " '2',\n",
       " '20',\n",
       " '21',\n",
       " '22',\n",
       " '23',\n",
       " '24',\n",
       " '25',\n",
       " '26',\n",
       " '27',\n",
       " '28',\n",
       " '29',\n",
       " '3',\n",
       " '30',\n",
       " '31',\n",
       " '32',\n",
       " '33',\n",
       " '34',\n",
       " '37',\n",
       " '38',\n",
       " '4',\n",
       " '48',\n",
       " '5',\n",
       " '55',\n",
       " '6',\n",
       " '68',\n",
       " '7',\n",
       " '73',\n",
       " '74',\n",
       " '75',\n",
       " '8',\n",
       " '88',\n",
       " '9',\n",
       " 'None',\n",
       " 'Single Family']"
      ]
     },
     "execution_count": 24,
     "metadata": {},
     "output_type": "execute_result"
    }
   ],
   "source": [
    "sorted(dataset[\"non_use_code_prefix\"].unique())"
   ]
  },
  {
   "cell_type": "code",
   "execution_count": 25,
   "id": "a8ccf285-447a-4b11-ae97-c13034209588",
   "metadata": {},
   "outputs": [
    {
     "data": {
      "text/html": [
       "<div>\n",
       "<style scoped>\n",
       "    .dataframe tbody tr th:only-of-type {\n",
       "        vertical-align: middle;\n",
       "    }\n",
       "\n",
       "    .dataframe tbody tr th {\n",
       "        vertical-align: top;\n",
       "    }\n",
       "\n",
       "    .dataframe thead th {\n",
       "        text-align: right;\n",
       "    }\n",
       "</style>\n",
       "<table border=\"1\" class=\"dataframe\">\n",
       "  <thead>\n",
       "    <tr style=\"text-align: right;\">\n",
       "      <th></th>\n",
       "      <th>Serial Number</th>\n",
       "      <th>List Year</th>\n",
       "      <th>Date Recorded</th>\n",
       "      <th>Town</th>\n",
       "      <th>Address</th>\n",
       "      <th>Assessed Value</th>\n",
       "      <th>Sale Amount</th>\n",
       "      <th>Sales Ratio</th>\n",
       "      <th>Property Type</th>\n",
       "      <th>Residential Type</th>\n",
       "      <th>Location</th>\n",
       "      <th>non_use_code_prefix</th>\n",
       "      <th>non_use_code_desc</th>\n",
       "    </tr>\n",
       "  </thead>\n",
       "  <tbody>\n",
       "    <tr>\n",
       "      <th>17831</th>\n",
       "      <td>200468</td>\n",
       "      <td>2020</td>\n",
       "      <td>05/19/2021</td>\n",
       "      <td>Groton</td>\n",
       "      <td>59 C ST</td>\n",
       "      <td>9870.00</td>\n",
       "      <td>27000.00</td>\n",
       "      <td>0.37</td>\n",
       "      <td>Unknown</td>\n",
       "      <td>Unknown</td>\n",
       "      <td>POINT (-72.05231 41.34105)</td>\n",
       "      <td>Single Family</td>\n",
       "      <td>None</td>\n",
       "    </tr>\n",
       "    <tr>\n",
       "      <th>1032708</th>\n",
       "      <td>19037</td>\n",
       "      <td>2019</td>\n",
       "      <td>03/02/2020</td>\n",
       "      <td>Canterbury</td>\n",
       "      <td>99 NO SOCIETY RD</td>\n",
       "      <td>132200.00</td>\n",
       "      <td>205000.00</td>\n",
       "      <td>0.64</td>\n",
       "      <td>Unknown</td>\n",
       "      <td>Unknown</td>\n",
       "      <td>NaN</td>\n",
       "      <td>Single Family</td>\n",
       "      <td>None</td>\n",
       "    </tr>\n",
       "    <tr>\n",
       "      <th>1078395</th>\n",
       "      <td>19031</td>\n",
       "      <td>2019</td>\n",
       "      <td>02/05/2020</td>\n",
       "      <td>Canterbury</td>\n",
       "      <td>183 BUCK HILL RD</td>\n",
       "      <td>155100.00</td>\n",
       "      <td>250000.00</td>\n",
       "      <td>0.62</td>\n",
       "      <td>Unknown</td>\n",
       "      <td>Unknown</td>\n",
       "      <td>NaN</td>\n",
       "      <td>Single Family</td>\n",
       "      <td>None</td>\n",
       "    </tr>\n",
       "  </tbody>\n",
       "</table>\n",
       "</div>"
      ],
      "text/plain": [
       "         Serial Number  List Year Date Recorded        Town           Address  \\\n",
       "17831           200468       2020    05/19/2021      Groton           59 C ST   \n",
       "1032708          19037       2019    03/02/2020  Canterbury  99 NO SOCIETY RD   \n",
       "1078395          19031       2019    02/05/2020  Canterbury  183 BUCK HILL RD   \n",
       "\n",
       "         Assessed Value  Sale Amount  Sales Ratio Property Type  \\\n",
       "17831           9870.00     27000.00         0.37       Unknown   \n",
       "1032708       132200.00    205000.00         0.64       Unknown   \n",
       "1078395       155100.00    250000.00         0.62       Unknown   \n",
       "\n",
       "        Residential Type                    Location non_use_code_prefix  \\\n",
       "17831            Unknown  POINT (-72.05231 41.34105)       Single Family   \n",
       "1032708          Unknown                         NaN       Single Family   \n",
       "1078395          Unknown                         NaN       Single Family   \n",
       "\n",
       "        non_use_code_desc  \n",
       "17831                None  \n",
       "1032708              None  \n",
       "1078395              None  "
      ]
     },
     "execution_count": 25,
     "metadata": {},
     "output_type": "execute_result"
    }
   ],
   "source": [
    "isOutlier = dataset[\"non_use_code_prefix\"] == \"Single Family\"\n",
    "dataset.loc[isOutlier]"
   ]
  },
  {
   "cell_type": "code",
   "execution_count": 26,
   "id": "655afae3-49c0-4158-b6b0-da1a25d78433",
   "metadata": {},
   "outputs": [],
   "source": [
    "dataset.loc[isOutlier, 'Residential Type'] = dataset.loc[isOutlier, 'Residential Type'].replace(to_replace=\"Unknown\",value=\"Single Family\")\n",
    "dataset.loc[isOutlier, 'non_use_code_prefix'] = dataset.loc[isOutlier, 'non_use_code_prefix'].replace(to_replace=\"Single Family\",value=\"None\")"
   ]
  },
  {
   "cell_type": "code",
   "execution_count": 27,
   "id": "37e13316-a478-40c8-99bd-0dd2d269f971",
   "metadata": {},
   "outputs": [
    {
     "data": {
      "text/plain": [
       "['1',\n",
       " '10',\n",
       " '11',\n",
       " '12',\n",
       " '13',\n",
       " '14',\n",
       " '15',\n",
       " '16',\n",
       " '17',\n",
       " '18',\n",
       " '19',\n",
       " '2',\n",
       " '20',\n",
       " '21',\n",
       " '22',\n",
       " '23',\n",
       " '24',\n",
       " '25',\n",
       " '26',\n",
       " '27',\n",
       " '28',\n",
       " '29',\n",
       " '3',\n",
       " '30',\n",
       " '31',\n",
       " '32',\n",
       " '33',\n",
       " '34',\n",
       " '37',\n",
       " '38',\n",
       " '4',\n",
       " '48',\n",
       " '5',\n",
       " '55',\n",
       " '6',\n",
       " '68',\n",
       " '7',\n",
       " '73',\n",
       " '74',\n",
       " '75',\n",
       " '8',\n",
       " '88',\n",
       " '9',\n",
       " 'None']"
      ]
     },
     "execution_count": 27,
     "metadata": {},
     "output_type": "execute_result"
    }
   ],
   "source": [
    "sorted(dataset[\"non_use_code_prefix\"].unique())"
   ]
  },
  {
   "cell_type": "code",
   "execution_count": 28,
   "id": "62cf8265-e98c-42d4-bc67-062a68fc06c0",
   "metadata": {},
   "outputs": [],
   "source": [
    "#Split Location into Latitude and Longitude values\n",
    "dataset.loc[dataset['Location'].notnull(), 'Location'] = dataset.loc[dataset['Location'].notnull(), 'Location'].str.replace(\"POINT\", \" \")\n",
    "dataset.loc[dataset['Location'].notnull(), 'Location'] = dataset.loc[dataset['Location'].notnull(), 'Location'].str.replace(r\"[()]\", \" \", regex=True)\n",
    "dataset.loc[dataset['Location'].notnull(), 'Location'] = dataset.loc[dataset['Location'].notnull(), 'Location'].str.strip()\n",
    "latlong = dataset.loc[dataset['Location'].notnull(), 'Location'].str.split(\" \",n=2,expand=True)\n",
    "dataset[[\"Latitude\", \"Longitude\"]] = latlong"
   ]
  },
  {
   "cell_type": "code",
   "execution_count": 29,
   "id": "cc0c44c5-227c-4ac8-b999-bd8b7e0dc187",
   "metadata": {},
   "outputs": [],
   "source": [
    "dataset = dataset.drop(columns=\"Location\")"
   ]
  },
  {
   "cell_type": "code",
   "execution_count": 30,
   "id": "48b83c24-b2ad-4fc5-9caa-7713b036ac73",
   "metadata": {},
   "outputs": [],
   "source": [
    "dataset[\"Latitude\"] = pd.to_numeric(dataset[\"Latitude\"], errors=\"coerce\")\n",
    "dataset[\"Longitude\"] = pd.to_numeric(dataset[\"Longitude\"], errors=\"coerce\")"
   ]
  },
  {
   "cell_type": "code",
   "execution_count": 31,
   "id": "b4ee8b0a-6bfd-4829-aee8-95b909e05b65",
   "metadata": {},
   "outputs": [],
   "source": [
    "dataset['Date Recorded'] = pd.to_datetime(dataset['Date Recorded'])\n",
    "dataset['Sales Year'] = dataset['Date Recorded'].dt.year"
   ]
  },
  {
   "cell_type": "code",
   "execution_count": 32,
   "id": "5ed1f059-17b2-482f-bfa4-d3e75da6e1be",
   "metadata": {},
   "outputs": [
    {
     "data": {
      "text/html": [
       "<div>\n",
       "<style scoped>\n",
       "    .dataframe tbody tr th:only-of-type {\n",
       "        vertical-align: middle;\n",
       "    }\n",
       "\n",
       "    .dataframe tbody tr th {\n",
       "        vertical-align: top;\n",
       "    }\n",
       "\n",
       "    .dataframe thead th {\n",
       "        text-align: right;\n",
       "    }\n",
       "</style>\n",
       "<table border=\"1\" class=\"dataframe\">\n",
       "  <thead>\n",
       "    <tr style=\"text-align: right;\">\n",
       "      <th></th>\n",
       "      <th>Serial Number</th>\n",
       "      <th>List Year</th>\n",
       "      <th>Date Recorded</th>\n",
       "      <th>Town</th>\n",
       "      <th>Address</th>\n",
       "      <th>Assessed Value</th>\n",
       "      <th>Sale Amount</th>\n",
       "      <th>Sales Ratio</th>\n",
       "      <th>Property Type</th>\n",
       "      <th>Residential Type</th>\n",
       "      <th>non_use_code_prefix</th>\n",
       "      <th>non_use_code_desc</th>\n",
       "      <th>Latitude</th>\n",
       "      <th>Longitude</th>\n",
       "      <th>Sales Year</th>\n",
       "    </tr>\n",
       "  </thead>\n",
       "  <tbody>\n",
       "    <tr>\n",
       "      <th>0</th>\n",
       "      <td>220008</td>\n",
       "      <td>2022</td>\n",
       "      <td>2023-01-30</td>\n",
       "      <td>Andover</td>\n",
       "      <td>618 ROUTE 6</td>\n",
       "      <td>139020.00</td>\n",
       "      <td>232000.00</td>\n",
       "      <td>0.60</td>\n",
       "      <td>Residential</td>\n",
       "      <td>Single Family</td>\n",
       "      <td>None</td>\n",
       "      <td>None</td>\n",
       "      <td>-72.34</td>\n",
       "      <td>41.73</td>\n",
       "      <td>2023</td>\n",
       "    </tr>\n",
       "    <tr>\n",
       "      <th>1</th>\n",
       "      <td>2020348</td>\n",
       "      <td>2020</td>\n",
       "      <td>2021-09-13</td>\n",
       "      <td>Ansonia</td>\n",
       "      <td>230 WAKELEE AVE</td>\n",
       "      <td>150500.00</td>\n",
       "      <td>325000.00</td>\n",
       "      <td>0.46</td>\n",
       "      <td>Commercial</td>\n",
       "      <td>Unknown</td>\n",
       "      <td>None</td>\n",
       "      <td>None</td>\n",
       "      <td>NaN</td>\n",
       "      <td>NaN</td>\n",
       "      <td>2021</td>\n",
       "    </tr>\n",
       "    <tr>\n",
       "      <th>2</th>\n",
       "      <td>20002</td>\n",
       "      <td>2020</td>\n",
       "      <td>2020-10-02</td>\n",
       "      <td>Ashford</td>\n",
       "      <td>390 TURNPIKE RD</td>\n",
       "      <td>253000.00</td>\n",
       "      <td>430000.00</td>\n",
       "      <td>0.59</td>\n",
       "      <td>Residential</td>\n",
       "      <td>Single Family</td>\n",
       "      <td>None</td>\n",
       "      <td>None</td>\n",
       "      <td>NaN</td>\n",
       "      <td>NaN</td>\n",
       "      <td>2020</td>\n",
       "    </tr>\n",
       "    <tr>\n",
       "      <th>3</th>\n",
       "      <td>210317</td>\n",
       "      <td>2021</td>\n",
       "      <td>2022-07-05</td>\n",
       "      <td>Avon</td>\n",
       "      <td>53 COTSWOLD WAY</td>\n",
       "      <td>329730.00</td>\n",
       "      <td>805000.00</td>\n",
       "      <td>0.41</td>\n",
       "      <td>Residential</td>\n",
       "      <td>Single Family</td>\n",
       "      <td>None</td>\n",
       "      <td>None</td>\n",
       "      <td>-72.85</td>\n",
       "      <td>41.78</td>\n",
       "      <td>2022</td>\n",
       "    </tr>\n",
       "    <tr>\n",
       "      <th>4</th>\n",
       "      <td>200212</td>\n",
       "      <td>2020</td>\n",
       "      <td>2021-03-09</td>\n",
       "      <td>Avon</td>\n",
       "      <td>5 CHESTNUT DRIVE</td>\n",
       "      <td>130400.00</td>\n",
       "      <td>179900.00</td>\n",
       "      <td>0.72</td>\n",
       "      <td>Residential</td>\n",
       "      <td>Condo</td>\n",
       "      <td>None</td>\n",
       "      <td>None</td>\n",
       "      <td>NaN</td>\n",
       "      <td>NaN</td>\n",
       "      <td>2021</td>\n",
       "    </tr>\n",
       "    <tr>\n",
       "      <th>...</th>\n",
       "      <td>...</td>\n",
       "      <td>...</td>\n",
       "      <td>...</td>\n",
       "      <td>...</td>\n",
       "      <td>...</td>\n",
       "      <td>...</td>\n",
       "      <td>...</td>\n",
       "      <td>...</td>\n",
       "      <td>...</td>\n",
       "      <td>...</td>\n",
       "      <td>...</td>\n",
       "      <td>...</td>\n",
       "      <td>...</td>\n",
       "      <td>...</td>\n",
       "      <td>...</td>\n",
       "    </tr>\n",
       "    <tr>\n",
       "      <th>1097624</th>\n",
       "      <td>190272</td>\n",
       "      <td>2019</td>\n",
       "      <td>2020-06-24</td>\n",
       "      <td>New London</td>\n",
       "      <td>4 BISHOP CT</td>\n",
       "      <td>60410.00</td>\n",
       "      <td>53100.00</td>\n",
       "      <td>1.14</td>\n",
       "      <td>Single Family</td>\n",
       "      <td>Single Family</td>\n",
       "      <td>14</td>\n",
       "      <td>Foreclosure</td>\n",
       "      <td>NaN</td>\n",
       "      <td>NaN</td>\n",
       "      <td>2020</td>\n",
       "    </tr>\n",
       "    <tr>\n",
       "      <th>1097625</th>\n",
       "      <td>190284</td>\n",
       "      <td>2019</td>\n",
       "      <td>2019-11-27</td>\n",
       "      <td>Waterbury</td>\n",
       "      <td>126 PERKINS AVE</td>\n",
       "      <td>68280.00</td>\n",
       "      <td>76000.00</td>\n",
       "      <td>0.90</td>\n",
       "      <td>Single Family</td>\n",
       "      <td>Single Family</td>\n",
       "      <td>25</td>\n",
       "      <td>Other</td>\n",
       "      <td>NaN</td>\n",
       "      <td>NaN</td>\n",
       "      <td>2019</td>\n",
       "    </tr>\n",
       "    <tr>\n",
       "      <th>1097626</th>\n",
       "      <td>190129</td>\n",
       "      <td>2019</td>\n",
       "      <td>2020-04-27</td>\n",
       "      <td>Windsor Locks</td>\n",
       "      <td>19 HATHAWAY ST</td>\n",
       "      <td>121450.00</td>\n",
       "      <td>210000.00</td>\n",
       "      <td>0.58</td>\n",
       "      <td>Single Family</td>\n",
       "      <td>Single Family</td>\n",
       "      <td>None</td>\n",
       "      <td>None</td>\n",
       "      <td>NaN</td>\n",
       "      <td>NaN</td>\n",
       "      <td>2020</td>\n",
       "    </tr>\n",
       "    <tr>\n",
       "      <th>1097627</th>\n",
       "      <td>190504</td>\n",
       "      <td>2019</td>\n",
       "      <td>2020-06-03</td>\n",
       "      <td>Middletown</td>\n",
       "      <td>8 BYSTREK DR</td>\n",
       "      <td>203360.00</td>\n",
       "      <td>280000.00</td>\n",
       "      <td>0.73</td>\n",
       "      <td>Single Family</td>\n",
       "      <td>Single Family</td>\n",
       "      <td>None</td>\n",
       "      <td>None</td>\n",
       "      <td>NaN</td>\n",
       "      <td>NaN</td>\n",
       "      <td>2020</td>\n",
       "    </tr>\n",
       "    <tr>\n",
       "      <th>1097628</th>\n",
       "      <td>190344</td>\n",
       "      <td>2019</td>\n",
       "      <td>2019-12-20</td>\n",
       "      <td>Milford</td>\n",
       "      <td>250 RESEARCH DR</td>\n",
       "      <td>4035970.00</td>\n",
       "      <td>7450000.00</td>\n",
       "      <td>0.54</td>\n",
       "      <td>Unknown</td>\n",
       "      <td>Unknown</td>\n",
       "      <td>None</td>\n",
       "      <td>None</td>\n",
       "      <td>NaN</td>\n",
       "      <td>NaN</td>\n",
       "      <td>2019</td>\n",
       "    </tr>\n",
       "  </tbody>\n",
       "</table>\n",
       "<p>1088476 rows × 15 columns</p>\n",
       "</div>"
      ],
      "text/plain": [
       "         Serial Number  List Year Date Recorded           Town  \\\n",
       "0               220008       2022    2023-01-30        Andover   \n",
       "1              2020348       2020    2021-09-13        Ansonia   \n",
       "2                20002       2020    2020-10-02        Ashford   \n",
       "3               210317       2021    2022-07-05           Avon   \n",
       "4               200212       2020    2021-03-09           Avon   \n",
       "...                ...        ...           ...            ...   \n",
       "1097624         190272       2019    2020-06-24     New London   \n",
       "1097625         190284       2019    2019-11-27      Waterbury   \n",
       "1097626         190129       2019    2020-04-27  Windsor Locks   \n",
       "1097627         190504       2019    2020-06-03     Middletown   \n",
       "1097628         190344       2019    2019-12-20        Milford   \n",
       "\n",
       "                  Address  Assessed Value  Sale Amount  Sales Ratio  \\\n",
       "0             618 ROUTE 6       139020.00    232000.00         0.60   \n",
       "1         230 WAKELEE AVE       150500.00    325000.00         0.46   \n",
       "2         390 TURNPIKE RD       253000.00    430000.00         0.59   \n",
       "3         53 COTSWOLD WAY       329730.00    805000.00         0.41   \n",
       "4        5 CHESTNUT DRIVE       130400.00    179900.00         0.72   \n",
       "...                   ...             ...          ...          ...   \n",
       "1097624       4 BISHOP CT        60410.00     53100.00         1.14   \n",
       "1097625   126 PERKINS AVE        68280.00     76000.00         0.90   \n",
       "1097626    19 HATHAWAY ST       121450.00    210000.00         0.58   \n",
       "1097627      8 BYSTREK DR       203360.00    280000.00         0.73   \n",
       "1097628   250 RESEARCH DR      4035970.00   7450000.00         0.54   \n",
       "\n",
       "         Property Type Residential Type non_use_code_prefix non_use_code_desc  \\\n",
       "0          Residential    Single Family                None              None   \n",
       "1           Commercial          Unknown                None              None   \n",
       "2          Residential    Single Family                None              None   \n",
       "3          Residential    Single Family                None              None   \n",
       "4          Residential            Condo                None              None   \n",
       "...                ...              ...                 ...               ...   \n",
       "1097624  Single Family    Single Family                  14       Foreclosure   \n",
       "1097625  Single Family    Single Family                  25             Other   \n",
       "1097626  Single Family    Single Family                None              None   \n",
       "1097627  Single Family    Single Family                None              None   \n",
       "1097628        Unknown          Unknown                None              None   \n",
       "\n",
       "         Latitude  Longitude  Sales Year  \n",
       "0          -72.34      41.73        2023  \n",
       "1             NaN        NaN        2021  \n",
       "2             NaN        NaN        2020  \n",
       "3          -72.85      41.78        2022  \n",
       "4             NaN        NaN        2021  \n",
       "...           ...        ...         ...  \n",
       "1097624       NaN        NaN        2020  \n",
       "1097625       NaN        NaN        2019  \n",
       "1097626       NaN        NaN        2020  \n",
       "1097627       NaN        NaN        2020  \n",
       "1097628       NaN        NaN        2019  \n",
       "\n",
       "[1088476 rows x 15 columns]"
      ]
     },
     "execution_count": 32,
     "metadata": {},
     "output_type": "execute_result"
    }
   ],
   "source": [
    "dataset"
   ]
  },
  {
   "cell_type": "code",
   "execution_count": 33,
   "id": "e858ffb8-c9eb-4ac0-9e8d-753e1bf35bd4",
   "metadata": {},
   "outputs": [],
   "source": [
    "#Detect and drop rows with Sales Year > List Year\n",
    "dataset['No. Waiting Years'] = dataset['Sales Year'] - dataset['List Year']\n",
    "filtered_data = dataset[dataset['No. Waiting Years'] < 0]\n",
    "dataset = dataset.drop(filtered_data.index)"
   ]
  },
  {
   "cell_type": "code",
   "execution_count": 34,
   "id": "a373b877-2bf8-4046-bb91-bd3dea492653",
   "metadata": {},
   "outputs": [
    {
     "data": {
      "text/plain": [
       "array([1, 0, 3, 2, 4])"
      ]
     },
     "execution_count": 34,
     "metadata": {},
     "output_type": "execute_result"
    }
   ],
   "source": [
    "dataset['No. Waiting Years'].unique()"
   ]
  },
  {
   "cell_type": "markdown",
   "id": "0ba9804f-1ca2-40d9-99cf-f71b043516ed",
   "metadata": {},
   "source": [
    "## Exploratory Data Analysis"
   ]
  },
  {
   "cell_type": "markdown",
   "id": "45549bc7-e97d-4e98-8c71-f3e9d8ccc2e3",
   "metadata": {},
   "source": [
    "### Detect Outliers"
   ]
  },
  {
   "cell_type": "code",
   "execution_count": 35,
   "id": "ec0f6e54-145b-46b7-a4a7-a5e20582a25e",
   "metadata": {},
   "outputs": [
    {
     "data": {
      "text/html": [
       "<div>\n",
       "<style scoped>\n",
       "    .dataframe tbody tr th:only-of-type {\n",
       "        vertical-align: middle;\n",
       "    }\n",
       "\n",
       "    .dataframe tbody tr th {\n",
       "        vertical-align: top;\n",
       "    }\n",
       "\n",
       "    .dataframe thead th {\n",
       "        text-align: right;\n",
       "    }\n",
       "</style>\n",
       "<table border=\"1\" class=\"dataframe\">\n",
       "  <thead>\n",
       "    <tr style=\"text-align: right;\">\n",
       "      <th></th>\n",
       "      <th>Assessed Value</th>\n",
       "      <th>Sale Amount</th>\n",
       "      <th>Sales Ratio</th>\n",
       "    </tr>\n",
       "  </thead>\n",
       "  <tbody>\n",
       "    <tr>\n",
       "      <th>count</th>\n",
       "      <td>1088420.00</td>\n",
       "      <td>1088420.00</td>\n",
       "      <td>1088420.00</td>\n",
       "    </tr>\n",
       "    <tr>\n",
       "      <th>mean</th>\n",
       "      <td>281773.80</td>\n",
       "      <td>406396.77</td>\n",
       "      <td>9.49</td>\n",
       "    </tr>\n",
       "    <tr>\n",
       "      <th>std</th>\n",
       "      <td>1663115.94</td>\n",
       "      <td>5164960.71</td>\n",
       "      <td>1805.77</td>\n",
       "    </tr>\n",
       "    <tr>\n",
       "      <th>min</th>\n",
       "      <td>0.00</td>\n",
       "      <td>0.00</td>\n",
       "      <td>0.00</td>\n",
       "    </tr>\n",
       "    <tr>\n",
       "      <th>25%</th>\n",
       "      <td>89030.00</td>\n",
       "      <td>145000.00</td>\n",
       "      <td>0.48</td>\n",
       "    </tr>\n",
       "    <tr>\n",
       "      <th>50%</th>\n",
       "      <td>140420.00</td>\n",
       "      <td>234000.00</td>\n",
       "      <td>0.61</td>\n",
       "    </tr>\n",
       "    <tr>\n",
       "      <th>75%</th>\n",
       "      <td>227920.00</td>\n",
       "      <td>375000.00</td>\n",
       "      <td>0.77</td>\n",
       "    </tr>\n",
       "    <tr>\n",
       "      <th>max</th>\n",
       "      <td>881510000.00</td>\n",
       "      <td>5000000000.00</td>\n",
       "      <td>1226420.00</td>\n",
       "    </tr>\n",
       "  </tbody>\n",
       "</table>\n",
       "</div>"
      ],
      "text/plain": [
       "       Assessed Value   Sale Amount  Sales Ratio\n",
       "count      1088420.00    1088420.00   1088420.00\n",
       "mean        281773.80     406396.77         9.49\n",
       "std        1663115.94    5164960.71      1805.77\n",
       "min              0.00          0.00         0.00\n",
       "25%          89030.00     145000.00         0.48\n",
       "50%         140420.00     234000.00         0.61\n",
       "75%         227920.00     375000.00         0.77\n",
       "max      881510000.00 5000000000.00   1226420.00"
      ]
     },
     "execution_count": 35,
     "metadata": {},
     "output_type": "execute_result"
    }
   ],
   "source": [
    "columns_ = ['Assessed Value', 'Sale Amount', 'Sales Ratio']\n",
    "dataset[columns_].describe()\n",
    "\n",
    "#Abnormally small min values (value and sales = 0), abnormally large max values.\n",
    "#The mean and median are far apart, indicating potential outliers."
   ]
  },
  {
   "cell_type": "code",
   "execution_count": 36,
   "id": "17a01ac5-51a7-49ee-b962-a0aedb8e87e0",
   "metadata": {},
   "outputs": [
    {
     "data": {
      "text/plain": [
       "<Axes: xlabel='Assessed Value'>"
      ]
     },
     "execution_count": 36,
     "metadata": {},
     "output_type": "execute_result"
    },
    {
     "data": {
      "image/png": "[encoded data removed]",
      "text/plain": [
       "<Figure size 640x480 with 1 Axes>"
      ]
     },
     "metadata": {},
     "output_type": "display_data"
    }
   ],
   "source": [
    "sns.boxplot(x=dataset['Assessed Value'])"
   ]
  },
  {
   "cell_type": "code",
   "execution_count": 37,
   "id": "ffe83968-0555-4e06-98a6-6c7d5880eefe",
   "metadata": {},
   "outputs": [],
   "source": [
    "#Drop rows outside the lower limit and upper limit\n",
    "q1= dataset['Assessed Value'].quantile(0.25)\n",
    "q3= dataset['Assessed Value'].quantile(0.75)\n",
    "iqr = q3 - q1\n",
    "lowerLimit = q1 - 1.5*iqr\n",
    "upperLimit = q3 + 1.5*iqr\n",
    "dropped_index = dataset.loc[dataset['Assessed Value'] > upperLimit].index\n",
    "dataset = dataset.drop(dropped_index)"
   ]
  },
  {
   "cell_type": "code",
   "execution_count": 38,
   "id": "e58074f5-f930-437a-9521-e1ba5309cf58",
   "metadata": {},
   "outputs": [
    {
     "data": {
      "text/plain": [
       "<Axes: xlabel='Sale Amount'>"
      ]
     },
     "execution_count": 38,
     "metadata": {},
     "output_type": "execute_result"
    },
    {
     "data": {
      "image/png": "[encoded data removed]",
      "text/plain": [
       "<Figure size 640x480 with 1 Axes>"
      ]
     },
     "metadata": {},
     "output_type": "display_data"
    }
   ],
   "source": [
    "sns.boxplot(x=dataset['Sale Amount'])"
   ]
  },
  {
   "cell_type": "code",
   "execution_count": 39,
   "id": "080e6919-2d23-4a69-91fc-288f90d28463",
   "metadata": {},
   "outputs": [],
   "source": [
    "#Drop rows outside the lower limit and upper limit\n",
    "q1_ = dataset['Sale Amount'].quantile(0.25)\n",
    "q3_= dataset['Sale Amount'].quantile(0.75)\n",
    "iqr_ = q3_ - q1_\n",
    "lowerLimit_ = q1_ - 1.5*iqr_\n",
    "upperLimit_ = q3_ + 1.5*iqr_\n",
    "dropped_index_ = dataset[dataset['Sale Amount'] > upperLimit_].index\n",
    "dataset = dataset.drop(dropped_index_)"
   ]
  },
  {
   "cell_type": "code",
   "execution_count": 40,
   "id": "aaca0985-3878-4f13-8856-6484d83d1fb9",
   "metadata": {},
   "outputs": [
    {
     "data": {
      "text/plain": [
       "<Axes: xlabel='Sales Ratio'>"
      ]
     },
     "execution_count": 40,
     "metadata": {},
     "output_type": "execute_result"
    },
    {
     "data": {
      "image/png": "[encoded data removed]",
      "text/plain": [
       "<Figure size 640x480 with 1 Axes>"
      ]
     },
     "metadata": {},
     "output_type": "display_data"
    }
   ],
   "source": [
    "sns.boxplot(x=dataset['Sales Ratio'])"
   ]
  },
  {
   "cell_type": "code",
   "execution_count": 41,
   "id": "dda117db-0941-4896-8cb0-ca96ca6dc8cb",
   "metadata": {},
   "outputs": [],
   "source": [
    "#Drop rows outside the lower limit and upper limit\n",
    "q1_1 = dataset['Sales Ratio'].quantile(0.25)\n",
    "q3_1 = dataset['Sales Ratio'].quantile(0.75)\n",
    "iqr1 = q3_1 - q1_1\n",
    "lowerLimit1 = q1_1 - 1.5*iqr1\n",
    "upperLimit1 = q3_1 + 1.5*iqr1\n",
    "dropped_index_1 = dataset.loc[(dataset['Sales Ratio'] < lowerLimit1) | (dataset['Sales Ratio'] > upperLimit1)].index\n",
    "dataset = dataset.drop(dropped_index_1)"
   ]
  },
  {
   "cell_type": "markdown",
   "id": "b0bcb091-fe49-4f92-b05c-90db6da13132",
   "metadata": {},
   "source": [
    "### Distribution Plots"
   ]
  },
  {
   "cell_type": "code",
   "execution_count": 42,
   "id": "866c5b7d-635c-4d13-86e1-1cf98e42a886",
   "metadata": {},
   "outputs": [
    {
     "data": {
      "image/png": "[encoded data removed]",
      "text/plain": [
       "<Figure size 1000x600 with 1 Axes>"
      ]
     },
     "metadata": {},
     "output_type": "display_data"
    }
   ],
   "source": [
    "data = dataset[['Sale Amount', 'Assessed Value']]\n",
    "plt.figure(figsize=(10, 6))\n",
    "sns.boxplot(data=data)\n",
    "plt.show()"
   ]
  },
  {
   "cell_type": "code",
   "execution_count": 43,
   "id": "37630485-b88e-4fb8-b041-91bbf5c2efac",
   "metadata": {},
   "outputs": [
    {
     "data": {
      "image/png": "[encoded data removed]",
      "text/plain": [
       "<Figure size 640x480 with 1 Axes>"
      ]
     },
     "metadata": {},
     "output_type": "display_data"
    }
   ],
   "source": [
    "sns.boxplot(dataset['Sales Ratio'])\n",
    "plt.show()"
   ]
  },
  {
   "cell_type": "code",
   "execution_count": 44,
   "id": "4bc495aa-0cac-439d-b515-e2e37b1c6207",
   "metadata": {},
   "outputs": [
    {
     "data": {
      "text/html": [
       "<div>\n",
       "<style scoped>\n",
       "    .dataframe tbody tr th:only-of-type {\n",
       "        vertical-align: middle;\n",
       "    }\n",
       "\n",
       "    .dataframe tbody tr th {\n",
       "        vertical-align: top;\n",
       "    }\n",
       "\n",
       "    .dataframe thead th {\n",
       "        text-align: right;\n",
       "    }\n",
       "</style>\n",
       "<table border=\"1\" class=\"dataframe\">\n",
       "  <thead>\n",
       "    <tr style=\"text-align: right;\">\n",
       "      <th></th>\n",
       "      <th>Assessed Value</th>\n",
       "      <th>Sale Amount</th>\n",
       "      <th>Sales Ratio</th>\n",
       "    </tr>\n",
       "  </thead>\n",
       "  <tbody>\n",
       "    <tr>\n",
       "      <th>count</th>\n",
       "      <td>860599.00</td>\n",
       "      <td>860599.00</td>\n",
       "      <td>860599.00</td>\n",
       "    </tr>\n",
       "    <tr>\n",
       "      <th>mean</th>\n",
       "      <td>144280.28</td>\n",
       "      <td>246294.71</td>\n",
       "      <td>0.61</td>\n",
       "    </tr>\n",
       "    <tr>\n",
       "      <th>std</th>\n",
       "      <td>81593.36</td>\n",
       "      <td>127544.20</td>\n",
       "      <td>0.20</td>\n",
       "    </tr>\n",
       "    <tr>\n",
       "      <th>min</th>\n",
       "      <td>70.00</td>\n",
       "      <td>300.00</td>\n",
       "      <td>0.05</td>\n",
       "    </tr>\n",
       "    <tr>\n",
       "      <th>25%</th>\n",
       "      <td>85060.00</td>\n",
       "      <td>152000.00</td>\n",
       "      <td>0.47</td>\n",
       "    </tr>\n",
       "    <tr>\n",
       "      <th>50%</th>\n",
       "      <td>129290.00</td>\n",
       "      <td>225000.00</td>\n",
       "      <td>0.59</td>\n",
       "    </tr>\n",
       "    <tr>\n",
       "      <th>75%</th>\n",
       "      <td>189340.00</td>\n",
       "      <td>325000.00</td>\n",
       "      <td>0.72</td>\n",
       "    </tr>\n",
       "    <tr>\n",
       "      <th>max</th>\n",
       "      <td>436250.00</td>\n",
       "      <td>616500.00</td>\n",
       "      <td>1.20</td>\n",
       "    </tr>\n",
       "  </tbody>\n",
       "</table>\n",
       "</div>"
      ],
      "text/plain": [
       "       Assessed Value  Sale Amount  Sales Ratio\n",
       "count       860599.00    860599.00    860599.00\n",
       "mean        144280.28    246294.71         0.61\n",
       "std          81593.36    127544.20         0.20\n",
       "min             70.00       300.00         0.05\n",
       "25%          85060.00    152000.00         0.47\n",
       "50%         129290.00    225000.00         0.59\n",
       "75%         189340.00    325000.00         0.72\n",
       "max         436250.00    616500.00         1.20"
      ]
     },
     "execution_count": 44,
     "metadata": {},
     "output_type": "execute_result"
    }
   ],
   "source": [
    "dataset[columns_].describe()"
   ]
  },
  {
   "cell_type": "code",
   "execution_count": 45,
   "id": "7467ead8-6467-464a-8d17-82a15d37d0b4",
   "metadata": {},
   "outputs": [
    {
     "data": {
      "image/png": "[encoded data removed]",
      "text/plain": [
       "<Figure size 640x480 with 1 Axes>"
      ]
     },
     "metadata": {},
     "output_type": "display_data"
    }
   ],
   "source": [
    "sns.histplot(data, kde=True)\n",
    "plt.title(\"Assessed Value vs Sales Distribution\")\n",
    "plt.xlabel(\"Dollars\")\n",
    "plt.ylabel(\"Frequency\")\n",
    "plt.show()"
   ]
  },
  {
   "cell_type": "code",
   "execution_count": 46,
   "id": "70865f67-3b4a-434a-ad8d-ead9e2929754",
   "metadata": {},
   "outputs": [
    {
     "data": {
      "image/png": "[encoded data removed]",
      "text/plain": [
       "<Figure size 640x480 with 1 Axes>"
      ]
     },
     "metadata": {},
     "output_type": "display_data"
    }
   ],
   "source": [
    "dataset['Sales Ratio'].hist()\n",
    "plt.title(\"Sales Ratio Distribution\")\n",
    "plt.xlabel(\"Sales Ratio\")\n",
    "plt.ylabel(\"Frequency\")\n",
    "plt.show()"
   ]
  },
  {
   "cell_type": "code",
   "execution_count": 47,
   "id": "a7ce15b3-ed41-4976-a273-55fc38f77ad9",
   "metadata": {},
   "outputs": [
    {
     "name": "stdout",
     "output_type": "stream",
     "text": [
      "                Skewness  Kurtosis\n",
      "Assessed Value      0.86      0.54\n",
      "Sale Amount         0.66     -0.04\n",
      "Sales Ratio         0.32      0.36\n"
     ]
    }
   ],
   "source": [
    "columns = ['Assessed Value', 'Sale Amount', 'Sales Ratio']\n",
    "skewness = dataset[columns].skew()\n",
    "kurtosis = dataset[columns].kurt()\n",
    "result = pd.DataFrame({\n",
    "    'Skewness': skewness,\n",
    "    'Kurtosis': kurtosis\n",
    "})\n",
    "\n",
    "print(result)"
   ]
  },
  {
   "cell_type": "markdown",
   "id": "e770b14f-144b-4adf-b58a-91679f959eed",
   "metadata": {},
   "source": [
    "**Quick Look**\n",
    "\n",
    "Sales Amount, Assessed Value, and Sales Ratio have:\n",
    "* Mean # Median\n",
    "* Skewness > 0\n",
    "* Kurtosis < 3 -> Skewed distributions\n",
    "  \n",
    "*Apply Chebyshev's Theorem, resulting in:*"
   ]
  },
  {
   "cell_type": "code",
   "execution_count": 48,
   "id": "c445b338-5496-41c9-abf5-0ef49af2782a",
   "metadata": {},
   "outputs": [
    {
     "data": {
      "text/html": [
       "<div>\n",
       "<style scoped>\n",
       "    .dataframe tbody tr th:only-of-type {\n",
       "        vertical-align: middle;\n",
       "    }\n",
       "\n",
       "    .dataframe tbody tr th {\n",
       "        vertical-align: top;\n",
       "    }\n",
       "\n",
       "    .dataframe thead th {\n",
       "        text-align: right;\n",
       "    }\n",
       "</style>\n",
       "<table border=\"1\" class=\"dataframe\">\n",
       "  <thead>\n",
       "    <tr style=\"text-align: right;\">\n",
       "      <th></th>\n",
       "      <th>75%</th>\n",
       "      <th>89%</th>\n",
       "      <th>94%</th>\n",
       "    </tr>\n",
       "  </thead>\n",
       "  <tbody>\n",
       "    <tr>\n",
       "      <th>Assessed Value</th>\n",
       "      <td>(0.00, 307467.01)</td>\n",
       "      <td>(0.00, 389060.38)</td>\n",
       "      <td>(0.00, 470653.74)</td>\n",
       "    </tr>\n",
       "    <tr>\n",
       "      <th>Sale Amount</th>\n",
       "      <td>(0.00, 501383.12)</td>\n",
       "      <td>(0.00, 628927.32)</td>\n",
       "      <td>(0.00, 756471.52)</td>\n",
       "    </tr>\n",
       "    <tr>\n",
       "      <th>Sales Ratio</th>\n",
       "      <td>(0.21, 1.01)</td>\n",
       "      <td>(0.01, 1.21)</td>\n",
       "      <td>(0.00, 1.41)</td>\n",
       "    </tr>\n",
       "  </tbody>\n",
       "</table>\n",
       "</div>"
      ],
      "text/plain": [
       "                              75%                89%                94%\n",
       "Assessed Value  (0.00, 307467.01)  (0.00, 389060.38)  (0.00, 470653.74)\n",
       "Sale Amount     (0.00, 501383.12)  (0.00, 628927.32)  (0.00, 756471.52)\n",
       "Sales Ratio          (0.21, 1.01)       (0.01, 1.21)       (0.00, 1.41)"
      ]
     },
     "execution_count": 48,
     "metadata": {},
     "output_type": "execute_result"
    }
   ],
   "source": [
    "muy = [dataset['Assessed Value'].mean(), dataset['Sale Amount'].mean(), dataset['Sales Ratio'].mean()]\n",
    "std = [dataset['Assessed Value'].std(), dataset['Sale Amount'].std(), dataset['Sales Ratio'].std()]\n",
    "z = [2,3,4]\n",
    "\n",
    "chebyshev = []\n",
    "for i in range(len(muy)):\n",
    "    cell = []\n",
    "    for k in z:\n",
    "        lowerBound = \"{:.2f}\".format(max(muy[i] - k*std[i], 0))\n",
    "        upperBound = \"{:.2f}\".format(muy[i] + k*std[i])\n",
    "        cell.append((lowerBound, upperBound))\n",
    "    chebyshev.append(cell)\n",
    "chebyshev_df = pd.DataFrame(chebyshev, index=['Assessed Value', 'Sale Amount', 'Sales Ratio'], columns=[\"75%\", \"89%\", \"94%\"])\n",
    "chebyshev_df"
   ]
  },
  {
   "cell_type": "markdown",
   "id": "62c7c0d3-86a6-4327-a730-911d0930e0c0",
   "metadata": {},
   "source": [
    "### *Observation 1:*\n",
    "\n",
    "From the Histogram and calculations based on Chebyshev's Theorem:\n",
    "* Around 75% of real estates are listed under (307,467) and sold under (501,383.12).\n",
    "* Around 89% of real estates are listed under (389,060) and sold under (628,927).\n",
    "* Around 94% of real estates are listed under (470,653) and sold under (756,471.12).\n",
    "* The distribution of Assessed Value has high kurtosis, while Sale Amount has negative kurtosis, indicating that the **distribution of Assessed Value is tightly concentrated around the mean value (144,280)**, whereas the **Sale Amount distribution is more spread out**.\n",
    "* The distribution of Sales Ratio is close to symmetric (skewness = 0.32), with most data concentrated around mean = 0.61. The mean of the sales ratio is below 1, indicating that **most real estates are likely sold at a price higher than their assessed value**.\n",
    "* **Most real estate sales prices can be priced at approximately (1/0.61 = 1.64) times the assessed value**."
   ]
  },
  {
   "cell_type": "markdown",
   "id": "a234a331-2d58-43e0-b7a7-774fd144a8eb",
   "metadata": {},
   "source": [
    "### Bar Chart"
   ]
  },
  {
   "cell_type": "code",
   "execution_count": 49,
   "id": "5f045cad-10f8-45c2-afa4-5f102ab437ea",
   "metadata": {},
   "outputs": [
    {
     "data": {
      "image/png": "[encoded data removed]",
      "text/plain": [
       "<Figure size 640x480 with 1 Axes>"
      ]
     },
     "metadata": {},
     "output_type": "display_data"
    }
   ],
   "source": [
    "counts_years = dataset['No. Waiting Years'].value_counts()\n",
    "x = counts_years.index\n",
    "y = counts_years.values\n",
    "barchart = plt.bar(x,y)\n",
    "for bar in barchart:\n",
    "    label = bar.get_height()\n",
    "    pltx = bar.get_x() + bar.get_width() / 2\n",
    "    plty = label + 3\n",
    "    plt.text(pltx, plty, str(label), ha=\"center\", va=\"bottom\")\n",
    "plt.show()"
   ]
  },
  {
   "cell_type": "code",
   "execution_count": 50,
   "id": "bc12a7bc-54e4-4411-a7a6-e8fa881f10ed",
   "metadata": {},
   "outputs": [
    {
     "name": "stdout",
     "output_type": "stream",
     "text": [
      "Zero waiting year: 25.43%\n",
      "One waiting year: 74.57%\n"
     ]
    }
   ],
   "source": [
    "percentage_zero_waiting_years = counts_years.get(0)/dataset['No. Waiting Years'].value_counts().sum() * 100\n",
    "percentage_one_waiting_years = counts_years.get(1)/dataset['No. Waiting Years'].value_counts().sum() * 100\n",
    "print(f\"Zero waiting year: {percentage_zero_waiting_years:.2f}%\")\n",
    "print(f\"One waiting year: {percentage_one_waiting_years:.2f}%\")"
   ]
  },
  {
   "cell_type": "markdown",
   "id": "558e8c9c-a85e-4ac5-bc0f-09665d1fd541",
   "metadata": {},
   "source": [
    "### *Observation 2:*\n",
    "\n",
    "* 74.57% of real estates sold after one year were listed.\n",
    "* 25.43% of real estates sold within one year were listed."
   ]
  },
  {
   "cell_type": "markdown",
   "id": "77ad0fb6-a50a-4b03-a10d-b7281e9d0d75",
   "metadata": {},
   "source": [
    "### Line Charts"
   ]
  },
  {
   "cell_type": "code",
   "execution_count": 51,
   "id": "0f3ed835-34ec-4dee-8fbd-03976753ce7a",
   "metadata": {},
   "outputs": [
    {
     "data": {
      "image/png": "[encoded data removed]",
      "text/plain": [
       "<Figure size 640x480 with 1 Axes>"
      ]
     },
     "metadata": {},
     "output_type": "display_data"
    }
   ],
   "source": [
    "yearCounts = dataset['Sales Year'].value_counts()\n",
    "xYears = yearCounts.index.astype(int)\n",
    "yYears = yearCounts.values\n",
    "sorted_indices = xYears.argsort()\n",
    "xYears = xYears[sorted_indices]\n",
    "yYears = yYears[sorted_indices]\n",
    "listCounts = dataset['List Year'].value_counts()\n",
    "xList = listCounts.index.astype(int)\n",
    "yList = listCounts.values\n",
    "sorted_indices1 = xList.argsort()\n",
    "xList = xList[sorted_indices1]\n",
    "yList = yList[sorted_indices1]\n",
    "plt.plot(xList, yList, linestyle=\"-\", color=\"red\", label = \"Total Listed Real Estates\")\n",
    "plt.plot(xYears, yYears, linestyle=\"-\", color=\"blue\", label = \"Total Sales\")\n",
    "plt.legend()\n",
    "plt.grid(True)\n",
    "plt.show()"
   ]
  },
  {
   "cell_type": "code",
   "execution_count": 52,
   "id": "df6372ae-9b08-4c7e-a1b2-b7ae2afca10a",
   "metadata": {},
   "outputs": [
    {
     "data": {
      "image/png": "[encoded data removed]",
      "text/plain": [
       "<Figure size 640x480 with 1 Axes>"
      ]
     },
     "metadata": {},
     "output_type": "display_data"
    }
   ],
   "source": [
    "average_sales_per_year = dataset.groupby('Sales Year')['Sale Amount'].mean()\n",
    "avg_assessed_value_per_year = dataset.groupby('List Year')['Assessed Value'].mean()\n",
    "plt.plot(avg_assessed_value_per_year.index, avg_assessed_value_per_year.values, linestyle='-', color=\"orange\", label=\"Avg. Assessed Value\")\n",
    "plt.plot(average_sales_per_year.index, average_sales_per_year.values, linestyle='-', color=\"green\", label=\"Avg. Sales Value\")\n",
    "plt.legend()\n",
    "plt.grid(True)\n",
    "plt.show()"
   ]
  },
  {
   "cell_type": "markdown",
   "id": "0898882c-bd02-461c-b8df-c031b100c799",
   "metadata": {},
   "source": [
    "### Pie Chart"
   ]
  },
  {
   "cell_type": "code",
   "execution_count": 53,
   "id": "3a13554e-22ee-4af4-bdd0-944b451a6f07",
   "metadata": {},
   "outputs": [
    {
     "data": {
      "image/png": "[encoded data removed]",
      "text/plain": [
       "<Figure size 640x480 with 1 Axes>"
      ]
     },
     "metadata": {},
     "output_type": "display_data"
    }
   ],
   "source": [
    "filtered = dataset[dataset['Property Type'] != \"Unknown\"]\n",
    "pieLabels = filtered['Property Type'].value_counts().index\n",
    "pieSizes = filtered['Property Type'].value_counts().values\n",
    "fig, ax = plt.subplots()\n",
    "ax.pie(pieSizes, labels=pieLabels, autopct='%1.1f%%')\n",
    "plt.show()"
   ]
  },
  {
   "cell_type": "markdown",
   "id": "fe950842-6ea8-4b4f-a636-cc0060dd1033",
   "metadata": {},
   "source": [
    "### *Observation 3:*\n",
    "\n",
    "* Real estate listings and sales were highest during 2004-2005 and 2019-2020, while 2011-2012 saw the lowest activity.\n",
    "* Average Assessed Value peaked in 2011 at (180,000), then stabilized around (170,000).\n",
    "* Average Sales Value rose to (270,000) by 2007, declined slightly, and then surged past $300,000 after 2023.\n",
    "* Most real estates listed were single-family homes."
   ]
  }
 ],
 "metadata": {
  "kernelspec": {
   "display_name": "Python 3 (ipykernel)",
   "language": "python",
   "name": "python3"
  },
  "language_info": {
   "codemirror_mode": {
    "name": "ipython",
    "version": 3
   },
   "file_extension": ".py",
   "mimetype": "text/x-python",
   "name": "python",
   "nbconvert_exporter": "python",
   "pygments_lexer": "ipython3",
   "version": "3.10.16"
  }
 },
 "nbformat": 4,
 "nbformat_minor": 5
}
